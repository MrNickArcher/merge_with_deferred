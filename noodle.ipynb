{
 "cells": [
  {
   "cell_type": "markdown",
   "metadata": {},
   "source": [
    "# Merge Noodle"
   ]
  },
  {
   "cell_type": "code",
   "execution_count": 1,
   "metadata": {},
   "outputs": [],
   "source": [
    "import pandas as pd\n",
    "from merge import merge_on_intervals, AST\n",
    "from util.signed_overlap import overlap\n",
    "from dtimsprep import merge"
   ]
  },
  {
   "cell_type": "code",
   "execution_count": 2,
   "metadata": {},
   "outputs": [],
   "source": [
    "left = pd.DataFrame(\n",
    "    columns=[\"road\", \"cwy\", \"slk_from\", \"slk_to\", \"left_measure\",\"left_category\"],\n",
    "    data=[\n",
    "        [\"H001\", \"L\",   0, 100, 55, \"b\"],\n",
    "        [\"H001\", \"L\", 100, 200, 57, \"a\"],\n",
    "        [\"H001\", \"L\", 200, 300, 25, \"b\"],\n",
    "        [\"H001\", \"L\", 300, 400, 94, \"e\"],\n",
    "    ]\n",
    ")\n",
    "\n",
    "right = pd.DataFrame(\n",
    "    columns=[\"road\", \"cwy\", \"slk_from\", \"slk_to\", \"right_measure\", \"right_category\"],\n",
    "    data=[\n",
    "        [\"H001\", \"L\", 50, 140, 1.0, \"A\"],  # 50  40   0  0\n",
    "        [\"H001\", \"L\", 140, 160, 2.0, \"B\"],  # 0  20   0  0\n",
    "        [\"H001\", \"L\", 160, 180, 3.0, \"B\"],  # 0  20   0  0\n",
    "        [\"H001\", \"L\", 180, 220, 4.0, \"B\"],  # 0  20  20  0\n",
    "        [\"H001\", \"L\", 220, 240, 5.0, \"C\"],  # 0   0  20  0\n",
    "        [\"H001\", \"L\", 240, 260, 5.0, \"C\"],  # 0   0  20  0\n",
    "        [\"H001\", \"L\", 260, 280, 6.0, \"D\"],  # 0   0  20  0\n",
    "        [\"H001\", \"L\", 280, 300, 7.0, \"E\"],  # 0   0  20  0\n",
    "        [\"H001\", \"L\", 300, 320, 8.0, \"F\"],  # 0   0     20\n",
    "        [\"H002\", \"L\", 260, 280, 6.0, \"D\"],  # 0   0  20  0\n",
    "        [\"H002\", \"L\", 280, 300, 7.0, \"E\"],  # 0   0  20  0\n",
    "        [\"H002\", \"L\", 300, 320, 8.0, \"F\"],  # 0   0     20\n",
    "    ]\n",
    ")\n",
    "\n",
    "expected_output = pd.DataFrame(\n",
    "    columns=[\"road\", \"cwy\", \"slk_from\", \"slk_to\", \"measure longest segment\", \"measure longest value\", \"category longest segment\", \"category longest value\"],\n",
    "    data=[\n",
    "        [\"H001\", \"L\", 0, 100, 1.0, 1.0, \"A\", \"A\"],\n",
    "        [\"H001\", \"L\", 100, 200, 1.0, 1.0, \"A\", \"B\"],\n",
    "        [\"H001\", \"L\", 200, 300, 4.0, 5.0, \"B\", \"C\"],\n",
    "        [\"H001\", \"L\", 300, 400, 8.0, 8.0, \"F\", \"F\"],\n",
    "    ]\n",
    ")"
   ]
  },
  {
   "cell_type": "code",
   "execution_count": 3,
   "metadata": {},
   "outputs": [
    {
     "data": {
      "text/html": [
       "<div>\n",
       "<style scoped>\n",
       "    .dataframe tbody tr th:only-of-type {\n",
       "        vertical-align: middle;\n",
       "    }\n",
       "\n",
       "    .dataframe tbody tr th {\n",
       "        vertical-align: top;\n",
       "    }\n",
       "\n",
       "    .dataframe thead th {\n",
       "        text-align: right;\n",
       "    }\n",
       "</style>\n",
       "<table border=\"1\" class=\"dataframe\">\n",
       "  <thead>\n",
       "    <tr style=\"text-align: right;\">\n",
       "      <th></th>\n",
       "      <th>road</th>\n",
       "      <th>cwy</th>\n",
       "      <th>slk_from</th>\n",
       "      <th>slk_to</th>\n",
       "      <th>left_measure</th>\n",
       "      <th>left_category</th>\n",
       "      <th>right_measure</th>\n",
       "      <th>right_measure</th>\n",
       "    </tr>\n",
       "  </thead>\n",
       "  <tbody>\n",
       "    <tr>\n",
       "      <th>0</th>\n",
       "      <td>H001</td>\n",
       "      <td>L</td>\n",
       "      <td>0</td>\n",
       "      <td>100</td>\n",
       "      <td>55</td>\n",
       "      <td>b</td>\n",
       "      <td>1.0</td>\n",
       "      <td>1.0</td>\n",
       "    </tr>\n",
       "    <tr>\n",
       "      <th>1</th>\n",
       "      <td>H001</td>\n",
       "      <td>L</td>\n",
       "      <td>100</td>\n",
       "      <td>200</td>\n",
       "      <td>57</td>\n",
       "      <td>a</td>\n",
       "      <td>10.0</td>\n",
       "      <td>2.2</td>\n",
       "    </tr>\n",
       "    <tr>\n",
       "      <th>2</th>\n",
       "      <td>H001</td>\n",
       "      <td>L</td>\n",
       "      <td>200</td>\n",
       "      <td>300</td>\n",
       "      <td>25</td>\n",
       "      <td>b</td>\n",
       "      <td>27.0</td>\n",
       "      <td>5.4</td>\n",
       "    </tr>\n",
       "    <tr>\n",
       "      <th>3</th>\n",
       "      <td>H001</td>\n",
       "      <td>L</td>\n",
       "      <td>300</td>\n",
       "      <td>400</td>\n",
       "      <td>94</td>\n",
       "      <td>e</td>\n",
       "      <td>8.0</td>\n",
       "      <td>8.0</td>\n",
       "    </tr>\n",
       "  </tbody>\n",
       "</table>\n",
       "</div>"
      ],
      "text/plain": [
       "   road cwy  slk_from  slk_to  left_measure left_category  right_measure  \\\n",
       "0  H001   L         0     100            55             b            1.0   \n",
       "1  H001   L       100     200            57             a           10.0   \n",
       "2  H001   L       200     300            25             b           27.0   \n",
       "3  H001   L       300     400            94             e            8.0   \n",
       "\n",
       "   right_measure  \n",
       "0            1.0  \n",
       "1            2.2  \n",
       "2            5.4  \n",
       "3            8.0  "
      ]
     },
     "execution_count": 3,
     "metadata": {},
     "output_type": "execute_result"
    }
   ],
   "source": [
    "merge.on_slk_intervals(\n",
    "    target       = left,\n",
    "    data         = right,\n",
    "    join_left = [\"road\",\"cwy\"],\n",
    "    from_to      = (\"slk_from\",\"slk_to\"),\n",
    "    column_actions=[\n",
    "        merge.Action(\"right_measure\", merge.Aggregation.Sum()),\n",
    "        merge.Action(\"right_measure\", merge.Aggregation.LengthWeightedAverage())\n",
    "    ]\n",
    ")"
   ]
  },
  {
   "cell_type": "code",
   "execution_count": 6,
   "metadata": {},
   "outputs": [
    {
     "name": "stdout",
     "output_type": "stream",
     "text": [
      "\n",
      "⟨execute⟩\n",
      " ┖╴⟨sum⟩\n",
      "    ┖╴⟨filter⟩\n",
      "       ┠╴⟨right_column⟩\n",
      "       ┃  ┖╴\"right_measure\"\n",
      "       ┖╴⟨>⟩\n",
      "          ┠╴⟨length_of_overlap⟩\n",
      "          ┖╴0\n",
      "\n",
      "⟨execute⟩\n",
      " ┠╴⟨declare⟩\n",
      " ┃  ┠╴\"subtree_1\"\n",
      " ┃  ┖╴⟨>⟩\n",
      " ┃     ┠╴⟨refer⟩\n",
      " ┃     ┃  ┖╴\"subtree_0\"\n",
      " ┃     ┖╴0\n",
      " ┠╴⟨declare⟩\n",
      " ┃  ┠╴\"subtree_0\"\n",
      " ┃  ┖╴⟨length_of_overlap⟩\n",
      " ┖╴⟨/⟩\n",
      "    ┠╴⟨sum⟩\n",
      "    ┃  ┖╴⟨*⟩\n",
      "    ┃     ┠╴⟨filter⟩\n",
      "    ┃     ┃  ┠╴⟨right_column⟩\n",
      "    ┃     ┃  ┃  ┖╴\"right_measure\"\n",
      "    ┃     ┃  ┖╴⟨refer⟩\n",
      "    ┃     ┃     ┖╴\"subtree_1\"\n",
      "    ┃     ┖╴⟨fraction_of_right⟩\n",
      "    ┖╴⟨sum⟩\n",
      "       ┖╴⟨filter⟩\n",
      "          ┠╴⟨refer⟩\n",
      "          ┃  ┖╴\"subtree_0\"\n",
      "          ┖╴⟨refer⟩\n",
      "             ┖╴\"subtree_1\"\n"
     ]
    },
    {
     "ename": "KeyError",
     "evalue": "'subtree_0'",
     "output_type": "error",
     "traceback": [
      "\u001b[1;31m---------------------------------------------------------------------------\u001b[0m",
      "\u001b[1;31mKeyError\u001b[0m                                  Traceback (most recent call last)",
      "\u001b[1;32me:\\GitProjects\\2022 07 24 Merge Interface\\noodle.ipynb Cell 5\u001b[0m in \u001b[0;36m<cell line: 15>\u001b[1;34m()\u001b[0m\n\u001b[0;32m     <a href='vscode-notebook-cell:/e%3A/GitProjects/2022%2007%2024%20Merge%20Interface/noodle.ipynb#ch0000004?line=11'>12</a>\u001b[0m \u001b[39mfor\u001b[39;00m item \u001b[39min\u001b[39;00m add_columns:\n\u001b[0;32m     <a href='vscode-notebook-cell:/e%3A/GitProjects/2022%2007%2024%20Merge%20Interface/noodle.ipynb#ch0000004?line=12'>13</a>\u001b[0m     AST\u001b[39m.\u001b[39mexecution_plan(item)\u001b[39m.\u001b[39mto_string_print()\n\u001b[1;32m---> <a href='vscode-notebook-cell:/e%3A/GitProjects/2022%2007%2024%20Merge%20Interface/noodle.ipynb#ch0000004?line=14'>15</a>\u001b[0m merge_on_intervals(\n\u001b[0;32m     <a href='vscode-notebook-cell:/e%3A/GitProjects/2022%2007%2024%20Merge%20Interface/noodle.ipynb#ch0000004?line=15'>16</a>\u001b[0m     left_data  \u001b[39m=\u001b[39;49m left,\n\u001b[0;32m     <a href='vscode-notebook-cell:/e%3A/GitProjects/2022%2007%2024%20Merge%20Interface/noodle.ipynb#ch0000004?line=16'>17</a>\u001b[0m     right_data \u001b[39m=\u001b[39;49m right,\n\u001b[0;32m     <a href='vscode-notebook-cell:/e%3A/GitProjects/2022%2007%2024%20Merge%20Interface/noodle.ipynb#ch0000004?line=17'>18</a>\u001b[0m     join_left_on\u001b[39m=\u001b[39;49m[\u001b[39m\"\u001b[39;49m\u001b[39mroad\u001b[39;49m\u001b[39m\"\u001b[39;49m,\u001b[39m\"\u001b[39;49m\u001b[39mcwy\u001b[39;49m\u001b[39m\"\u001b[39;49m],\n\u001b[0;32m     <a href='vscode-notebook-cell:/e%3A/GitProjects/2022%2007%2024%20Merge%20Interface/noodle.ipynb#ch0000004?line=18'>19</a>\u001b[0m     from_to\u001b[39m=\u001b[39;49m(\u001b[39m\"\u001b[39;49m\u001b[39mslk_from\u001b[39;49m\u001b[39m\"\u001b[39;49m,\u001b[39m\"\u001b[39;49m\u001b[39mslk_to\u001b[39;49m\u001b[39m\"\u001b[39;49m),\n\u001b[0;32m     <a href='vscode-notebook-cell:/e%3A/GitProjects/2022%2007%2024%20Merge%20Interface/noodle.ipynb#ch0000004?line=19'>20</a>\u001b[0m     add_columns\u001b[39m=\u001b[39;49madd_columns\n\u001b[0;32m     <a href='vscode-notebook-cell:/e%3A/GitProjects/2022%2007%2024%20Merge%20Interface/noodle.ipynb#ch0000004?line=20'>21</a>\u001b[0m )\n",
      "File \u001b[1;32me:\\GitProjects\\2022 07 24 Merge Interface\\merge\\_merge.py:65\u001b[0m, in \u001b[0;36mmerge_on_intervals\u001b[1;34m(left_data, right_data, join_left_on, from_to, add_columns)\u001b[0m\n\u001b[0;32m     62\u001b[0m         signed_overlap_len \u001b[39m=\u001b[39m overlap_max \u001b[39m-\u001b[39m overlap_min\n\u001b[0;32m     64\u001b[0m         result_index\u001b[39m.\u001b[39mappend(left_row_index)\n\u001b[1;32m---> 65\u001b[0m         result_rows\u001b[39m.\u001b[39mappend([\n\u001b[0;32m     66\u001b[0m             AST\u001b[39m.\u001b[39mevaluate(\n\u001b[0;32m     67\u001b[0m                 myast,\n\u001b[0;32m     68\u001b[0m                 left_columns      \u001b[39m=\u001b[39m left_row,\n\u001b[0;32m     69\u001b[0m                 right_columns     \u001b[39m=\u001b[39m right_group,\n\u001b[0;32m     70\u001b[0m                 length_of_left    \u001b[39m=\u001b[39m left_row[_LENGTH_LEFT],\n\u001b[0;32m     71\u001b[0m                 length_of_right   \u001b[39m=\u001b[39m right_group[_LENGTH_RIGHT],\n\u001b[0;32m     72\u001b[0m                 length_of_overlap \u001b[39m=\u001b[39m signed_overlap_len\n\u001b[0;32m     73\u001b[0m             )\n\u001b[0;32m     74\u001b[0m             \u001b[39mfor\u001b[39;00m myast \u001b[39min\u001b[39;00m add_columns_planned\n\u001b[0;32m     75\u001b[0m         ])\n\u001b[0;32m     76\u001b[0m \u001b[39mreturn\u001b[39;00m pd\u001b[39m.\u001b[39mconcat(\n\u001b[0;32m     77\u001b[0m     [\n\u001b[0;32m     78\u001b[0m         left_data_original,\n\u001b[1;32m   (...)\u001b[0m\n\u001b[0;32m     85\u001b[0m     axis\u001b[39m=\u001b[39m\u001b[39m\"\u001b[39m\u001b[39mcolumns\u001b[39m\u001b[39m\"\u001b[39m\n\u001b[0;32m     86\u001b[0m )\n",
      "File \u001b[1;32me:\\GitProjects\\2022 07 24 Merge Interface\\merge\\_merge.py:66\u001b[0m, in \u001b[0;36m<listcomp>\u001b[1;34m(.0)\u001b[0m\n\u001b[0;32m     62\u001b[0m         signed_overlap_len \u001b[39m=\u001b[39m overlap_max \u001b[39m-\u001b[39m overlap_min\n\u001b[0;32m     64\u001b[0m         result_index\u001b[39m.\u001b[39mappend(left_row_index)\n\u001b[0;32m     65\u001b[0m         result_rows\u001b[39m.\u001b[39mappend([\n\u001b[1;32m---> 66\u001b[0m             AST\u001b[39m.\u001b[39;49mevaluate(\n\u001b[0;32m     67\u001b[0m                 myast,\n\u001b[0;32m     68\u001b[0m                 left_columns      \u001b[39m=\u001b[39;49m left_row,\n\u001b[0;32m     69\u001b[0m                 right_columns     \u001b[39m=\u001b[39;49m right_group,\n\u001b[0;32m     70\u001b[0m                 length_of_left    \u001b[39m=\u001b[39;49m left_row[_LENGTH_LEFT],\n\u001b[0;32m     71\u001b[0m                 length_of_right   \u001b[39m=\u001b[39;49m right_group[_LENGTH_RIGHT],\n\u001b[0;32m     72\u001b[0m                 length_of_overlap \u001b[39m=\u001b[39;49m signed_overlap_len\n\u001b[0;32m     73\u001b[0m             )\n\u001b[0;32m     74\u001b[0m             \u001b[39mfor\u001b[39;00m myast \u001b[39min\u001b[39;00m add_columns_planned\n\u001b[0;32m     75\u001b[0m         ])\n\u001b[0;32m     76\u001b[0m \u001b[39mreturn\u001b[39;00m pd\u001b[39m.\u001b[39mconcat(\n\u001b[0;32m     77\u001b[0m     [\n\u001b[0;32m     78\u001b[0m         left_data_original,\n\u001b[1;32m   (...)\u001b[0m\n\u001b[0;32m     85\u001b[0m     axis\u001b[39m=\u001b[39m\u001b[39m\"\u001b[39m\u001b[39mcolumns\u001b[39m\u001b[39m\"\u001b[39m\n\u001b[0;32m     86\u001b[0m )\n",
      "File \u001b[1;32me:\\GitProjects\\2022 07 24 Merge Interface\\merge\\_ast.py:335\u001b[0m, in \u001b[0;36mAST.evaluate\u001b[1;34m(myast, left_columns, length_of_left, right_columns, length_of_right, length_of_overlap)\u001b[0m\n\u001b[0;32m    330\u001b[0m         \u001b[39mreturn\u001b[39;00m walker(last)\n\u001b[0;32m    333\u001b[0m     \u001b[39mraise\u001b[39;00m \u001b[39mException\u001b[39;00m(\u001b[39mf\u001b[39m\u001b[39m\"\u001b[39m\u001b[39mUnexpected Node: \u001b[39m\u001b[39m{\u001b[39;00mmyast\u001b[39m.\u001b[39maction\u001b[39m}\u001b[39;00m\u001b[39m\"\u001b[39m)\n\u001b[1;32m--> 335\u001b[0m \u001b[39mreturn\u001b[39;00m walker(myast)\n",
      "File \u001b[1;32me:\\GitProjects\\2022 07 24 Merge Interface\\merge\\_ast.py:329\u001b[0m, in \u001b[0;36mAST.evaluate.<locals>.walker\u001b[1;34m(myast)\u001b[0m\n\u001b[0;32m    327\u001b[0m     \u001b[39m*\u001b[39mpreliminary, last \u001b[39m=\u001b[39m myast\u001b[39m.\u001b[39mchildren\n\u001b[0;32m    328\u001b[0m     \u001b[39mfor\u001b[39;00m item \u001b[39min\u001b[39;00m preliminary:\n\u001b[1;32m--> 329\u001b[0m         walker(item)\n\u001b[0;32m    330\u001b[0m     \u001b[39mreturn\u001b[39;00m walker(last)\n\u001b[0;32m    333\u001b[0m \u001b[39mraise\u001b[39;00m \u001b[39mException\u001b[39;00m(\u001b[39mf\u001b[39m\u001b[39m\"\u001b[39m\u001b[39mUnexpected Node: \u001b[39m\u001b[39m{\u001b[39;00mmyast\u001b[39m.\u001b[39maction\u001b[39m}\u001b[39;00m\u001b[39m\"\u001b[39m)\n",
      "File \u001b[1;32me:\\GitProjects\\2022 07 24 Merge Interface\\merge\\_ast.py:320\u001b[0m, in \u001b[0;36mAST.evaluate.<locals>.walker\u001b[1;34m(myast)\u001b[0m\n\u001b[0;32m    317\u001b[0m     \u001b[39mreturn\u001b[39;00m walker(myast\u001b[39m.\u001b[39mchildren[\u001b[39m0\u001b[39m])\u001b[39m.\u001b[39mloc[walker(myast\u001b[39m.\u001b[39mchildren[\u001b[39m1\u001b[39m])]\n\u001b[0;32m    319\u001b[0m \u001b[39mif\u001b[39;00m myast\u001b[39m.\u001b[39maction \u001b[39m==\u001b[39m \u001b[39m\"\u001b[39m\u001b[39mdeclare\u001b[39m\u001b[39m\"\u001b[39m:\n\u001b[1;32m--> 320\u001b[0m     context[myast\u001b[39m.\u001b[39mchildren[\u001b[39m0\u001b[39m]] \u001b[39m=\u001b[39m walker(myast\u001b[39m.\u001b[39;49mchildren[\u001b[39m1\u001b[39;49m])\n\u001b[0;32m    321\u001b[0m     \u001b[39mreturn\u001b[39;00m \u001b[39mNone\u001b[39;00m\n\u001b[0;32m    323\u001b[0m \u001b[39mif\u001b[39;00m myast\u001b[39m.\u001b[39maction \u001b[39m==\u001b[39m \u001b[39m\"\u001b[39m\u001b[39mrefer\u001b[39m\u001b[39m\"\u001b[39m:\n",
      "File \u001b[1;32me:\\GitProjects\\2022 07 24 Merge Interface\\merge\\_ast.py:288\u001b[0m, in \u001b[0;36mAST.evaluate.<locals>.walker\u001b[1;34m(myast)\u001b[0m\n\u001b[0;32m    285\u001b[0m     \u001b[39mreturn\u001b[39;00m walker(myast\u001b[39m.\u001b[39mchildren[\u001b[39m0\u001b[39m]) \u001b[39m/\u001b[39m walker(myast\u001b[39m.\u001b[39mchildren[\u001b[39m1\u001b[39m])\n\u001b[0;32m    287\u001b[0m \u001b[39mif\u001b[39;00m myast\u001b[39m.\u001b[39maction \u001b[39m==\u001b[39m \u001b[39m\"\u001b[39m\u001b[39m>\u001b[39m\u001b[39m\"\u001b[39m:\n\u001b[1;32m--> 288\u001b[0m     \u001b[39mreturn\u001b[39;00m walker(myast\u001b[39m.\u001b[39;49mchildren[\u001b[39m0\u001b[39;49m]) \u001b[39m>\u001b[39m walker(myast\u001b[39m.\u001b[39mchildren[\u001b[39m1\u001b[39m])\n\u001b[0;32m    290\u001b[0m \u001b[39mif\u001b[39;00m myast\u001b[39m.\u001b[39maction \u001b[39m==\u001b[39m \u001b[39m\"\u001b[39m\u001b[39m<\u001b[39m\u001b[39m\"\u001b[39m:\n\u001b[0;32m    291\u001b[0m     \u001b[39mreturn\u001b[39;00m walker(myast\u001b[39m.\u001b[39mchildren[\u001b[39m0\u001b[39m]) \u001b[39m<\u001b[39m walker(myast\u001b[39m.\u001b[39mchildren[\u001b[39m1\u001b[39m])\n",
      "File \u001b[1;32me:\\GitProjects\\2022 07 24 Merge Interface\\merge\\_ast.py:324\u001b[0m, in \u001b[0;36mAST.evaluate.<locals>.walker\u001b[1;34m(myast)\u001b[0m\n\u001b[0;32m    321\u001b[0m     \u001b[39mreturn\u001b[39;00m \u001b[39mNone\u001b[39;00m\n\u001b[0;32m    323\u001b[0m \u001b[39mif\u001b[39;00m myast\u001b[39m.\u001b[39maction \u001b[39m==\u001b[39m \u001b[39m\"\u001b[39m\u001b[39mrefer\u001b[39m\u001b[39m\"\u001b[39m:\n\u001b[1;32m--> 324\u001b[0m     \u001b[39mreturn\u001b[39;00m context[myast\u001b[39m.\u001b[39;49mchildren[\u001b[39m0\u001b[39;49m]]\n\u001b[0;32m    326\u001b[0m \u001b[39mif\u001b[39;00m myast\u001b[39m.\u001b[39maction \u001b[39m==\u001b[39m \u001b[39m\"\u001b[39m\u001b[39mexecute\u001b[39m\u001b[39m\"\u001b[39m:\n\u001b[0;32m    327\u001b[0m     \u001b[39m*\u001b[39mpreliminary, last \u001b[39m=\u001b[39m myast\u001b[39m.\u001b[39mchildren\n",
      "\u001b[1;31mKeyError\u001b[0m: 'subtree_0'"
     ]
    }
   ],
   "source": [
    "add_columns = [\n",
    "    # SUM\n",
    "    AST.right_column(\"right_measure\").filter(AST.length_of_overlap()>0).sum(),\n",
    "    # LENGTH WEIGHTED SUM\n",
    "    (\n",
    "        AST.right_column(\"right_measure\").filter(AST.length_of_overlap()>0)\n",
    "        * AST.fraction_of_right()  \n",
    "    ).sum()\n",
    "    / AST.length_of_overlap().filter(AST.length_of_overlap()>0).sum(),\n",
    "]\n",
    "\n",
    "for item in add_columns:\n",
    "    AST.execution_plan(item).to_string_print()\n",
    "\n",
    "merge_on_intervals(\n",
    "    left_data  = left,\n",
    "    right_data = right,\n",
    "    join_left_on=[\"road\",\"cwy\"],\n",
    "    from_to=(\"slk_from\",\"slk_to\"),\n",
    "    add_columns=add_columns\n",
    ")"
   ]
  },
  {
   "cell_type": "code",
   "execution_count": 5,
   "metadata": {},
   "outputs": [
    {
     "data": {
      "text/plain": [
       "({'A', 'B'}, {'C'})"
      ]
     },
     "execution_count": 5,
     "metadata": {},
     "output_type": "execute_result"
    }
   ],
   "source": [
    "from functools import reduce\n",
    "add_columns = [\n",
    "    AST.left_column(\"A\"),\n",
    "    AST.left_column(\"A\"),\n",
    "    AST.left_column(\"B\")+AST.right_column(\"C\"),\n",
    "]\n",
    "reduce(\n",
    "    lambda a,b: ({*a[0], *b[0]}, {*a[1],*b[1]}),\n",
    "    [AST.columns_required(ast) for ast in add_columns]\n",
    ")"
   ]
  },
  {
   "cell_type": "code",
   "execution_count": 6,
   "metadata": {},
   "outputs": [
    {
     "data": {
      "text/html": [
       "<div>\n",
       "<style scoped>\n",
       "    .dataframe tbody tr th:only-of-type {\n",
       "        vertical-align: middle;\n",
       "    }\n",
       "\n",
       "    .dataframe tbody tr th {\n",
       "        vertical-align: top;\n",
       "    }\n",
       "\n",
       "    .dataframe thead th {\n",
       "        text-align: right;\n",
       "    }\n",
       "</style>\n",
       "<table border=\"1\" class=\"dataframe\">\n",
       "  <thead>\n",
       "    <tr style=\"text-align: right;\">\n",
       "      <th></th>\n",
       "      <th>0</th>\n",
       "      <th>1</th>\n",
       "      <th>2</th>\n",
       "      <th>3</th>\n",
       "      <th>4</th>\n",
       "      <th>5</th>\n",
       "      <th>6</th>\n",
       "      <th>7</th>\n",
       "      <th>8</th>\n",
       "      <th>9</th>\n",
       "      <th>10</th>\n",
       "      <th>11</th>\n",
       "    </tr>\n",
       "  </thead>\n",
       "  <tbody>\n",
       "    <tr>\n",
       "      <th>0</th>\n",
       "      <td>50</td>\n",
       "      <td>-40</td>\n",
       "      <td>-60</td>\n",
       "      <td>-80</td>\n",
       "      <td>-120</td>\n",
       "      <td>-140</td>\n",
       "      <td>-160</td>\n",
       "      <td>-180</td>\n",
       "      <td>-200</td>\n",
       "      <td>-160</td>\n",
       "      <td>-180</td>\n",
       "      <td>-200</td>\n",
       "    </tr>\n",
       "    <tr>\n",
       "      <th>1</th>\n",
       "      <td>40</td>\n",
       "      <td>20</td>\n",
       "      <td>20</td>\n",
       "      <td>20</td>\n",
       "      <td>-20</td>\n",
       "      <td>-40</td>\n",
       "      <td>-60</td>\n",
       "      <td>-80</td>\n",
       "      <td>-100</td>\n",
       "      <td>-60</td>\n",
       "      <td>-80</td>\n",
       "      <td>-100</td>\n",
       "    </tr>\n",
       "    <tr>\n",
       "      <th>2</th>\n",
       "      <td>-60</td>\n",
       "      <td>-40</td>\n",
       "      <td>-20</td>\n",
       "      <td>20</td>\n",
       "      <td>20</td>\n",
       "      <td>20</td>\n",
       "      <td>20</td>\n",
       "      <td>20</td>\n",
       "      <td>0</td>\n",
       "      <td>20</td>\n",
       "      <td>20</td>\n",
       "      <td>0</td>\n",
       "    </tr>\n",
       "    <tr>\n",
       "      <th>3</th>\n",
       "      <td>-160</td>\n",
       "      <td>-140</td>\n",
       "      <td>-120</td>\n",
       "      <td>-80</td>\n",
       "      <td>-60</td>\n",
       "      <td>-40</td>\n",
       "      <td>-20</td>\n",
       "      <td>0</td>\n",
       "      <td>20</td>\n",
       "      <td>-20</td>\n",
       "      <td>0</td>\n",
       "      <td>20</td>\n",
       "    </tr>\n",
       "  </tbody>\n",
       "</table>\n",
       "</div>"
      ],
      "text/plain": [
       "    0    1    2   3    4    5    6    7    8    9    10   11\n",
       "0   50  -40  -60 -80 -120 -140 -160 -180 -200 -160 -180 -200\n",
       "1   40   20   20  20  -20  -40  -60  -80 -100  -60  -80 -100\n",
       "2  -60  -40  -20  20   20   20   20   20    0   20   20    0\n",
       "3 -160 -140 -120 -80  -60  -40  -20    0   20  -20    0   20"
      ]
     },
     "execution_count": 6,
     "metadata": {},
     "output_type": "execute_result"
    }
   ],
   "source": [
    "signed_overlap = pd.DataFrame(overlap(\n",
    "    left[\"slk_from\"].to_numpy(),\n",
    "    left[\"slk_to\"].to_numpy(),\n",
    "    right[\"slk_from\"].to_numpy(),\n",
    "    right[\"slk_to\"].to_numpy()\n",
    ").transpose())\n",
    "signed_overlap"
   ]
  },
  {
   "cell_type": "code",
   "execution_count": 10,
   "metadata": {},
   "outputs": [
    {
     "name": "stdout",
     "output_type": "stream",
     "text": [
      "\n",
      "⟨execute⟩\n",
      " ┠╴⟨declare⟩\n",
      " ┃  ┠╴\"subtree_1\"\n",
      " ┃  ┖╴⟨length_of_overlap⟩\n",
      " ┠╴⟨declare⟩\n",
      " ┃  ┠╴\"subtree_0\"\n",
      " ┃  ┖╴⟨>⟩\n",
      " ┃     ┠╴⟨refer⟩\n",
      " ┃     ┃  ┖╴\"subtree_1\"\n",
      " ┃     ┖╴0\n",
      " ┖╴⟨/⟩\n",
      "    ┠╴⟨sum⟩\n",
      "    ┃  ┖╴⟨filter⟩\n",
      "    ┃     ┠╴⟨*⟩\n",
      "    ┃     ┃  ┠╴⟨right_column⟩\n",
      "    ┃     ┃  ┃  ┖╴\"right_measure\"\n",
      "    ┃     ┃  ┖╴⟨fraction_of_right⟩\n",
      "    ┃     ┖╴⟨refer⟩\n",
      "    ┃        ┖╴\"subtree_0\"\n",
      "    ┖╴⟨sum⟩\n",
      "       ┖╴⟨filter⟩\n",
      "          ┠╴⟨refer⟩\n",
      "          ┃  ┖╴\"subtree_1\"\n",
      "          ┖╴⟨refer⟩\n",
      "             ┖╴\"subtree_0\"\n"
     ]
    }
   ],
   "source": [
    "\n",
    "AST.execution_plan((\n",
    "    (\n",
    "          AST.right_column(\"right_measure\")\n",
    "        * AST.fraction_of_right()\n",
    "    )\n",
    "    .filter(AST.length_of_overlap()>0)  \n",
    ").sum() \n",
    "/ AST.length_of_overlap().filter(AST.length_of_overlap()>0).sum()\n",
    ").to_string_print()\n"
   ]
  },
  {
   "cell_type": "code",
   "execution_count": 4,
   "metadata": {},
   "outputs": [
    {
     "data": {
      "text/plain": [
       "True"
      ]
     },
     "execution_count": 4,
     "metadata": {},
     "output_type": "execute_result"
    }
   ],
   "source": [
    "AST.compare_equal(AST.left_column(\"30\")*5,AST.left_column(\"30\")*5)"
   ]
  },
  {
   "cell_type": "code",
   "execution_count": 5,
   "metadata": {},
   "outputs": [
    {
     "name": "stdout",
     "output_type": "stream",
     "text": [
      "\n",
      "⟨ < ⟩\n",
      " ┠╴⟨ left_column ⟩\n",
      " ┃  ┖╴\"30\"\n",
      " ┖╴⟨ left_column ⟩\n",
      "    ┖╴\"30\"\n"
     ]
    }
   ],
   "source": [
    "print((AST.left_column(\"30\") < AST.left_column(\"30\") < AST.left_column(\"30\")).to_string())"
   ]
  },
  {
   "cell_type": "code",
   "execution_count": 6,
   "metadata": {},
   "outputs": [
    {
     "name": "stdout",
     "output_type": "stream",
     "text": [
      "\n",
      "⟨-⟩\n",
      " ┠╴⟨+⟩\n",
      " ┃  ┠╴⟨*⟩\n",
      " ┃  ┃  ┠╴⟨+⟩\n",
      " ┃  ┃  ┃  ┠╴⟨left_column⟩\n",
      " ┃  ┃  ┃  ┃  ┖╴\"A\"\n",
      " ┃  ┃  ┃  ┖╴5\n",
      " ┃  ┃  ┖╴2\n",
      " ┃  ┖╴⟨*⟩\n",
      " ┃     ┠╴⟨*⟩\n",
      " ┃     ┃  ┠╴⟨+⟩\n",
      " ┃     ┃  ┃  ┠╴⟨left_column⟩\n",
      " ┃     ┃  ┃  ┃  ┖╴\"A\"\n",
      " ┃     ┃  ┃  ┖╴5\n",
      " ┃     ┃  ┖╴2\n",
      " ┃     ┖╴3\n",
      " ┖╴⟨*⟩\n",
      "    ┠╴⟨+⟩\n",
      "    ┃  ┠╴⟨left_column⟩\n",
      "    ┃  ┃  ┖╴\"A\"\n",
      "    ┃  ┖╴5\n",
      "    ┖╴2\n"
     ]
    }
   ],
   "source": [
    "tree = (AST.left_column(\"A\")+5)*2 + (AST.left_column(\"A\")+5)*2*3 - (AST.left_column(\"A\")+5)*2\n",
    "tree.to_string_print()"
   ]
  },
  {
   "cell_type": "code",
   "execution_count": 8,
   "metadata": {},
   "outputs": [
    {
     "name": "stdout",
     "output_type": "stream",
     "text": [
      "\n",
      "⟨execute⟩\n",
      " ┠╴⟨declare⟩\n",
      " ┃  ┠╴\"subtree_2\"\n",
      " ┃  ┖╴⟨left_column⟩\n",
      " ┃     ┖╴\"A\"\n",
      " ┠╴⟨declare⟩\n",
      " ┃  ┠╴\"subtree_1\"\n",
      " ┃  ┖╴⟨+⟩\n",
      " ┃     ┠╴⟨refer⟩\n",
      " ┃     ┃  ┖╴\"subtree_2\"\n",
      " ┃     ┖╴5\n",
      " ┠╴⟨declare⟩\n",
      " ┃  ┠╴\"subtree_0\"\n",
      " ┃  ┖╴⟨*⟩\n",
      " ┃     ┠╴⟨refer⟩\n",
      " ┃     ┃  ┖╴\"subtree_1\"\n",
      " ┃     ┖╴2\n",
      " ┖╴⟨-⟩\n",
      "    ┠╴⟨+⟩\n",
      "    ┃  ┠╴⟨refer⟩\n",
      "    ┃  ┃  ┖╴\"subtree_0\"\n",
      "    ┃  ┖╴⟨*⟩\n",
      "    ┃     ┠╴⟨refer⟩\n",
      "    ┃     ┃  ┖╴\"subtree_0\"\n",
      "    ┃     ┖╴3\n",
      "    ┖╴⟨refer⟩\n",
      "       ┖╴\"subtree_0\"\n"
     ]
    }
   ],
   "source": [
    "AST.execution_plan(tree).to_string_print()"
   ]
  },
  {
   "cell_type": "code",
   "execution_count": 8,
   "metadata": {},
   "outputs": [
    {
     "name": "stdout",
     "output_type": "stream",
     "text": [
      "\n",
      "⟨ execute ⟩\n",
      " ┠╴⟨ declare ⟩\n",
      " ┃  ┠╴\"subtree_1\"\n",
      " ┃  ┖╴⟨ length_of_overlap ⟩\n",
      " ┠╴⟨ declare ⟩\n",
      " ┃  ┠╴\"subtree_0\"\n",
      " ┃  ┖╴⟨ > ⟩\n",
      " ┃     ┠╴⟨ refer ⟩\n",
      " ┃     ┃  ┖╴\"subtree_1\"\n",
      " ┃     ┖╴0\n",
      " ┖╴⟨ filter ⟩\n",
      "    ┠╴⟨ right_column ⟩\n",
      "    ┃  ┖╴\"right_measure\"\n",
      "    ┖╴⟨ or ⟩\n",
      "       ┠╴⟨ refer ⟩\n",
      "       ┃  ┖╴\"subtree_0\"\n",
      "       ┖╴⟨ refer ⟩\n",
      "          ┖╴\"subtree_0\"\n"
     ]
    }
   ],
   "source": [
    "print(AST.execution_plan(AST.right_column(\"right_measure\").filter((AST.length_of_overlap() > 0)|(AST.length_of_overlap() > 0))).to_string())"
   ]
  },
  {
   "cell_type": "code",
   "execution_count": 9,
   "metadata": {},
   "outputs": [
    {
     "data": {
      "text/plain": [
       "⟨ AST == ⟩"
      ]
     },
     "execution_count": 9,
     "metadata": {},
     "output_type": "execute_result"
    }
   ],
   "source": [
    "AST.left_column(\"road\") == AST.right_column(\"road\") + AST.left_column(\"road\")"
   ]
  },
  {
   "cell_type": "code",
   "execution_count": 10,
   "metadata": {},
   "outputs": [
    {
     "data": {
      "text/plain": [
       "⟨ AST at_index ⟩"
      ]
     },
     "execution_count": 10,
     "metadata": {},
     "output_type": "execute_result"
    }
   ],
   "source": [
    "myast  = AST.right_column(\"right_category\").at_index(\n",
    "            AST.right_column(\"right_measure\")\n",
    "            .filter(\n",
    "                  (AST.right_column(\"right_measure\")>4)\n",
    "                & (AST.right_column(\"right_measure\")<8)\n",
    "            ).index_of_max()\n",
    ")\n",
    "myast"
   ]
  },
  {
   "cell_type": "code",
   "execution_count": 11,
   "metadata": {},
   "outputs": [
    {
     "data": {
      "text/plain": [
       "(set(), {'right_category', 'right_measure'})"
      ]
     },
     "execution_count": 11,
     "metadata": {},
     "output_type": "execute_result"
    }
   ],
   "source": [
    "left_columns_required, right_columns_required = AST.columns_required(myast)\n",
    "left_columns_required, right_columns_required"
   ]
  },
  {
   "cell_type": "code",
   "execution_count": 12,
   "metadata": {},
   "outputs": [
    {
     "data": {
      "text/plain": [
       "'right_measure'"
      ]
     },
     "execution_count": 12,
     "metadata": {},
     "output_type": "execute_result"
    }
   ],
   "source": [
    "AST.output_column_name2(myast)"
   ]
  },
  {
   "cell_type": "code",
   "execution_count": 13,
   "metadata": {},
   "outputs": [
    {
     "data": {
      "text/plain": [
       "[1, 2]"
      ]
     },
     "execution_count": 13,
     "metadata": {},
     "output_type": "execute_result"
    }
   ],
   "source": [
    "[1,2,3][:-1]"
   ]
  },
  {
   "cell_type": "code",
   "execution_count": 14,
   "metadata": {},
   "outputs": [
    {
     "name": "stdout",
     "output_type": "stream",
     "text": [
      "series 0    1.0\n",
      "1    2.0\n",
      "2    3.0\n",
      "3    4.0\n",
      "4    5.0\n",
      "5    5.0\n",
      "6    6.0\n",
      "7    7.0\n",
      "8    8.0\n",
      "Name: right_measure, dtype: float64\n",
      "mask 0    False\n",
      "1    False\n",
      "2    False\n",
      "3    False\n",
      "4     True\n",
      "5     True\n",
      "6     True\n",
      "7     True\n",
      "8    False\n",
      "Name: right_measure, dtype: bool\n"
     ]
    },
    {
     "data": {
      "text/plain": [
       "'E'"
      ]
     },
     "execution_count": 14,
     "metadata": {},
     "output_type": "execute_result"
    }
   ],
   "source": [
    "row_of_target:int\n",
    "row_of_target = 1\n",
    "AST.evaluate(\n",
    "    myast,\n",
    "    left_columns      = left .loc[row_of_target, list(left_columns_required)],\n",
    "    right_columns     = right.loc[            :, list(right_columns_required)],\n",
    "    length_of_left    = right.loc[row_of_target, \"slk_to\"] - right.loc[row_of_target, \"slk_from\"],\n",
    "    length_of_right   = left .loc[            :, \"slk_to\"] - left .loc[            :, \"slk_from\"],\n",
    "    length_of_overlap = signed_overlap.iloc[row_of_target,:],\n",
    ")"
   ]
  },
  {
   "cell_type": "code",
   "execution_count": 15,
   "metadata": {},
   "outputs": [
    {
     "ename": "SyntaxError",
     "evalue": "invalid syntax (4048077929.py, line 9)",
     "output_type": "error",
     "traceback": [
      "\u001b[1;36m  Input \u001b[1;32mIn [15]\u001b[1;36m\u001b[0m\n\u001b[1;33m    column(\"measure\").group_by\u001b[0m\n\u001b[1;37m    ^\u001b[0m\n\u001b[1;31mSyntaxError\u001b[0m\u001b[1;31m:\u001b[0m invalid syntax\n"
     ]
    }
   ],
   "source": [
    "merge(\n",
    "    target       = segments,\n",
    "    new_data     = data,\n",
    "    join_left_on = [\"road\",\"cwy\"],\n",
    "    from_to      = (\"slk_from\",\"slk_to\"),\n",
    "    add_columns  = [\n",
    "        column(\"category\").take_index(column(\"measure\").index_of_maximum()).alias(\"category_of_max_measure\"),\n",
    "        column(\"category\").group()\n",
    "        column(\"measure\").group_by\n",
    "    ]\n",
    ")\n"
   ]
  },
  {
   "cell_type": "code",
   "execution_count": null,
   "metadata": {},
   "outputs": [],
   "source": []
  }
 ],
 "metadata": {
  "kernelspec": {
   "display_name": "Python 3.9.7 ('base')",
   "language": "python",
   "name": "python3"
  },
  "language_info": {
   "codemirror_mode": {
    "name": "ipython",
    "version": 3
   },
   "file_extension": ".py",
   "mimetype": "text/x-python",
   "name": "python",
   "nbconvert_exporter": "python",
   "pygments_lexer": "ipython3",
   "version": "3.9.7"
  },
  "orig_nbformat": 4,
  "vscode": {
   "interpreter": {
    "hash": "96f3c6fba75008833ba01a455abb1adb769ac6350096651888c2504dea6d13a0"
   }
  }
 },
 "nbformat": 4,
 "nbformat_minor": 2
}

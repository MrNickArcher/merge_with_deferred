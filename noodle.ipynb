{
 "cells": [
  {
   "cell_type": "markdown",
   "metadata": {},
   "source": [
    "# Merge Noodle"
   ]
  },
  {
   "cell_type": "code",
   "execution_count": 1,
   "metadata": {},
   "outputs": [],
   "source": [
    "import pandas as pd\n",
    "from merge import on_intervals, AST\n",
    "from util.signed_overlap import overlap"
   ]
  },
  {
   "cell_type": "code",
   "execution_count": 2,
   "metadata": {},
   "outputs": [],
   "source": [
    "left = pd.DataFrame(\n",
    "    columns=[\"road\", \"cwy\", \"slk_from\", \"slk_to\", \"left_measure\",\"left_category\"],\n",
    "    data=[\n",
    "        [\"H001\", \"L\",   0, 100, 55, \"b\"],\n",
    "        [\"H001\", \"L\", 100, 200, 57, \"a\"],\n",
    "        [\"H001\", \"L\", 200, 300, 25, \"b\"],\n",
    "        [\"H001\", \"L\", 300, 400, 94, \"e\"],\n",
    "    ]\n",
    ")\n",
    "\n",
    "right = pd.DataFrame(\n",
    "    columns=[\"road\", \"cwy\", \"slk_from\", \"slk_to\", \"right_measure\", \"right_category\"],\n",
    "    data=[\n",
    "        [\"H001\", \"L\", 50, 140, 1.0, \"A\"],  # 50  40   0  0\n",
    "        [\"H001\", \"L\", 140, 160, 2.0, \"B\"],  # 0  20   0  0\n",
    "        [\"H001\", \"L\", 160, 180, 3.0, \"B\"],  # 0  20   0  0\n",
    "        [\"H001\", \"L\", 180, 220, 4.0, \"B\"],  # 0  20  20  0\n",
    "        [\"H001\", \"L\", 220, 240, 5.0, \"C\"],  # 0   0  20  0\n",
    "        [\"H001\", \"L\", 240, 260, 5.0, \"C\"],  # 0   0  20  0\n",
    "        [\"H001\", \"L\", 260, 280, 6.0, \"D\"],  # 0   0  20  0\n",
    "        [\"H001\", \"L\", 280, 300, 7.0, \"E\"],  # 0   0  20  0\n",
    "        [\"H001\", \"L\", 300, 320, 8.0, \"F\"],  # 0   0     20\n",
    "    ]\n",
    ")\n",
    "\n",
    "expected_output = pd.DataFrame(\n",
    "    columns=[\"road\", \"cwy\", \"slk_from\", \"slk_to\", \"measure longest segment\", \"measure longest value\", \"category longest segment\", \"category longest value\"],\n",
    "    data=[\n",
    "        [\"H001\", \"L\", 0, 100, 1.0, 1.0, \"A\", \"A\"],\n",
    "        [\"H001\", \"L\", 100, 200, 1.0, 1.0, \"A\", \"B\"],\n",
    "        [\"H001\", \"L\", 200, 300, 4.0, 5.0, \"B\", \"C\"],\n",
    "        [\"H001\", \"L\", 300, 400, 8.0, 8.0, \"F\", \"F\"],\n",
    "    ]\n",
    ")"
   ]
  },
  {
   "cell_type": "code",
   "execution_count": 3,
   "metadata": {},
   "outputs": [
    {
     "data": {
      "text/html": [
       "<div>\n",
       "<style scoped>\n",
       "    .dataframe tbody tr th:only-of-type {\n",
       "        vertical-align: middle;\n",
       "    }\n",
       "\n",
       "    .dataframe tbody tr th {\n",
       "        vertical-align: top;\n",
       "    }\n",
       "\n",
       "    .dataframe thead th {\n",
       "        text-align: right;\n",
       "    }\n",
       "</style>\n",
       "<table border=\"1\" class=\"dataframe\">\n",
       "  <thead>\n",
       "    <tr style=\"text-align: right;\">\n",
       "      <th></th>\n",
       "      <th>0</th>\n",
       "      <th>1</th>\n",
       "      <th>2</th>\n",
       "      <th>3</th>\n",
       "      <th>4</th>\n",
       "      <th>5</th>\n",
       "      <th>6</th>\n",
       "      <th>7</th>\n",
       "      <th>8</th>\n",
       "    </tr>\n",
       "  </thead>\n",
       "  <tbody>\n",
       "    <tr>\n",
       "      <th>0</th>\n",
       "      <td>50</td>\n",
       "      <td>-40</td>\n",
       "      <td>-60</td>\n",
       "      <td>-80</td>\n",
       "      <td>-120</td>\n",
       "      <td>-140</td>\n",
       "      <td>-160</td>\n",
       "      <td>-180</td>\n",
       "      <td>-200</td>\n",
       "    </tr>\n",
       "    <tr>\n",
       "      <th>1</th>\n",
       "      <td>40</td>\n",
       "      <td>20</td>\n",
       "      <td>20</td>\n",
       "      <td>20</td>\n",
       "      <td>-20</td>\n",
       "      <td>-40</td>\n",
       "      <td>-60</td>\n",
       "      <td>-80</td>\n",
       "      <td>-100</td>\n",
       "    </tr>\n",
       "    <tr>\n",
       "      <th>2</th>\n",
       "      <td>-60</td>\n",
       "      <td>-40</td>\n",
       "      <td>-20</td>\n",
       "      <td>20</td>\n",
       "      <td>20</td>\n",
       "      <td>20</td>\n",
       "      <td>20</td>\n",
       "      <td>20</td>\n",
       "      <td>0</td>\n",
       "    </tr>\n",
       "    <tr>\n",
       "      <th>3</th>\n",
       "      <td>-160</td>\n",
       "      <td>-140</td>\n",
       "      <td>-120</td>\n",
       "      <td>-80</td>\n",
       "      <td>-60</td>\n",
       "      <td>-40</td>\n",
       "      <td>-20</td>\n",
       "      <td>0</td>\n",
       "      <td>20</td>\n",
       "    </tr>\n",
       "  </tbody>\n",
       "</table>\n",
       "</div>"
      ],
      "text/plain": [
       "     0    1    2   3    4    5    6    7    8\n",
       "0   50  -40  -60 -80 -120 -140 -160 -180 -200\n",
       "1   40   20   20  20  -20  -40  -60  -80 -100\n",
       "2  -60  -40  -20  20   20   20   20   20    0\n",
       "3 -160 -140 -120 -80  -60  -40  -20    0   20"
      ]
     },
     "execution_count": 3,
     "metadata": {},
     "output_type": "execute_result"
    }
   ],
   "source": [
    "signed_overlap = pd.DataFrame(overlap(\n",
    "    left[\"slk_from\"].to_numpy(),\n",
    "    left[\"slk_to\"].to_numpy(),\n",
    "    right[\"slk_from\"].to_numpy(),\n",
    "    right[\"slk_to\"].to_numpy()\n",
    ").transpose())\n",
    "signed_overlap"
   ]
  },
  {
   "cell_type": "code",
   "execution_count": 4,
   "metadata": {},
   "outputs": [
    {
     "data": {
      "text/plain": [
       "True"
      ]
     },
     "execution_count": 4,
     "metadata": {},
     "output_type": "execute_result"
    }
   ],
   "source": [
    "AST.compare_equal(AST.left_column(\"30\")*5,AST.left_column(\"30\")*5)"
   ]
  },
  {
   "cell_type": "code",
   "execution_count": 5,
   "metadata": {},
   "outputs": [
    {
     "name": "stdout",
     "output_type": "stream",
     "text": [
      "\n",
      "[-]\n",
      " ┠╴[+]\n",
      " ┃  ┠╴[*]\n",
      " ┃  ┃  ┠╴[+]\n",
      " ┃  ┃  ┃  ┠╴[left_column]\n",
      " ┃  ┃  ┃  ┃  ┖╴\"A\"\n",
      " ┃  ┃  ┃  ┖╴5\n",
      " ┃  ┃  ┖╴2\n",
      " ┃  ┖╴[*]\n",
      " ┃     ┠╴[*]\n",
      " ┃     ┃  ┠╴[+]\n",
      " ┃     ┃  ┃  ┠╴[left_column]\n",
      " ┃     ┃  ┃  ┃  ┖╴\"A\"\n",
      " ┃     ┃  ┃  ┖╴5\n",
      " ┃     ┃  ┖╴2\n",
      " ┃     ┖╴3\n",
      " ┖╴[*]\n",
      "    ┠╴[+]\n",
      "    ┃  ┠╴[left_column]\n",
      "    ┃  ┃  ┖╴\"A\"\n",
      "    ┃  ┖╴5\n",
      "    ┖╴2\n"
     ]
    }
   ],
   "source": [
    "tree = (AST.left_column(\"A\")+5)*2 + (AST.left_column(\"A\")+5)*2*3 - (AST.left_column(\"A\")+5)*2\n",
    "print(tree.to_string())"
   ]
  },
  {
   "cell_type": "code",
   "execution_count": 6,
   "metadata": {},
   "outputs": [
    {
     "name": "stdout",
     "output_type": "stream",
     "text": [
      "\n",
      "[execute]\n",
      " ┠╴[declare]\n",
      " ┃  ┠╴\"subtree_2\"\n",
      " ┃  ┖╴[left_column]\n",
      " ┃     ┖╴\"A\"\n",
      " ┠╴[declare]\n",
      " ┃  ┠╴\"subtree_1\"\n",
      " ┃  ┖╴[+]\n",
      " ┃     ┠╴[refer]\n",
      " ┃     ┃  ┖╴\"subtree_2\"\n",
      " ┃     ┖╴5\n",
      " ┠╴[declare]\n",
      " ┃  ┠╴\"subtree_0\"\n",
      " ┃  ┖╴[*]\n",
      " ┃     ┠╴[refer]\n",
      " ┃     ┃  ┖╴\"subtree_1\"\n",
      " ┃     ┖╴2\n",
      " ┖╴[-]\n",
      "    ┠╴[+]\n",
      "    ┃  ┠╴[refer]\n",
      "    ┃  ┃  ┖╴\"subtree_0\"\n",
      "    ┃  ┖╴[*]\n",
      "    ┃     ┠╴[refer]\n",
      "    ┃     ┃  ┖╴\"subtree_0\"\n",
      "    ┃     ┖╴3\n",
      "    ┖╴[refer]\n",
      "       ┖╴\"subtree_0\"\n"
     ]
    }
   ],
   "source": [
    "print(AST.execution_plan(tree).to_string())"
   ]
  },
  {
   "cell_type": "code",
   "execution_count": 15,
   "metadata": {},
   "outputs": [
    {
     "name": "stdout",
     "output_type": "stream",
     "text": [
      "\n",
      "[execute]\n",
      " ┠╴[declare]\n",
      " ┃  ┠╴\"subtree_1\"\n",
      " ┃  ┖╴[length_of_overlap]\n",
      " ┠╴[declare]\n",
      " ┃  ┠╴\"subtree_0\"\n",
      " ┃  ┖╴[>]\n",
      " ┃     ┠╴[refer]\n",
      " ┃     ┃  ┖╴\"subtree_1\"\n",
      " ┃     ┖╴0\n",
      " ┖╴[filter]\n",
      "    ┠╴[right_column]\n",
      "    ┃  ┖╴\"right_measure\"\n",
      "    ┖╴[or]\n",
      "       ┠╴[refer]\n",
      "       ┃  ┖╴\"subtree_0\"\n",
      "       ┖╴[refer]\n",
      "          ┖╴\"subtree_0\"\n"
     ]
    }
   ],
   "source": [
    "print(AST.execution_plan(AST.right_column(\"right_measure\").filter((AST.length_of_overlap() > 0)|(AST.length_of_overlap() > 0))).to_string())"
   ]
  },
  {
   "cell_type": "code",
   "execution_count": 8,
   "metadata": {},
   "outputs": [
    {
     "data": {
      "text/plain": [
       "<AST ==>"
      ]
     },
     "execution_count": 8,
     "metadata": {},
     "output_type": "execute_result"
    }
   ],
   "source": [
    "AST.left_column(\"road\") == AST.right_column(\"road\") + AST.left_column(\"road\")"
   ]
  },
  {
   "cell_type": "code",
   "execution_count": 9,
   "metadata": {},
   "outputs": [
    {
     "data": {
      "text/plain": [
       "<AST at_index>"
      ]
     },
     "execution_count": 9,
     "metadata": {},
     "output_type": "execute_result"
    }
   ],
   "source": [
    "myast  = AST.right_column(\"right_category\").at_index(\n",
    "            AST.right_column(\"right_measure\")\n",
    "            .filter(\n",
    "                  (AST.right_column(\"right_measure\")>4)\n",
    "                & (AST.right_column(\"right_measure\")<8)\n",
    "            ).index_of_max()\n",
    ")\n",
    "myast"
   ]
  },
  {
   "cell_type": "code",
   "execution_count": 10,
   "metadata": {},
   "outputs": [
    {
     "data": {
      "text/plain": [
       "(set(), {'right_category', 'right_measure'})"
      ]
     },
     "execution_count": 10,
     "metadata": {},
     "output_type": "execute_result"
    }
   ],
   "source": [
    "left_columns_required, right_columns_required = AST.columns_required(myast)\n",
    "left_columns_required, right_columns_required"
   ]
  },
  {
   "cell_type": "code",
   "execution_count": 11,
   "metadata": {},
   "outputs": [
    {
     "data": {
      "text/plain": [
       "'right_measure'"
      ]
     },
     "execution_count": 11,
     "metadata": {},
     "output_type": "execute_result"
    }
   ],
   "source": [
    "AST.output_column_name2(myast)"
   ]
  },
  {
   "cell_type": "code",
   "execution_count": 12,
   "metadata": {},
   "outputs": [
    {
     "data": {
      "text/plain": [
       "[1, 2]"
      ]
     },
     "execution_count": 12,
     "metadata": {},
     "output_type": "execute_result"
    }
   ],
   "source": [
    "[1,2,3][:-1]"
   ]
  },
  {
   "cell_type": "code",
   "execution_count": 13,
   "metadata": {},
   "outputs": [
    {
     "name": "stdout",
     "output_type": "stream",
     "text": [
      "series 0    1.0\n",
      "1    2.0\n",
      "2    3.0\n",
      "3    4.0\n",
      "4    5.0\n",
      "5    5.0\n",
      "6    6.0\n",
      "7    7.0\n",
      "8    8.0\n",
      "Name: right_measure, dtype: float64\n",
      "mask 0    False\n",
      "1    False\n",
      "2    False\n",
      "3    False\n",
      "4     True\n",
      "5     True\n",
      "6     True\n",
      "7     True\n",
      "8    False\n",
      "Name: right_measure, dtype: bool\n"
     ]
    },
    {
     "data": {
      "text/plain": [
       "'E'"
      ]
     },
     "execution_count": 13,
     "metadata": {},
     "output_type": "execute_result"
    }
   ],
   "source": [
    "row_of_target:int\n",
    "row_of_target = 1\n",
    "AST.evaluate(\n",
    "    myast,\n",
    "    left_columns      = left .loc[row_of_target, list(left_columns_required)],\n",
    "    right_columns     = right.loc[            :, list(right_columns_required)],\n",
    "    length_of_left    = right.loc[row_of_target, \"slk_to\"] - right.loc[row_of_target, \"slk_from\"],\n",
    "    length_of_right   = left .loc[            :, \"slk_to\"] - left .loc[            :, \"slk_from\"],\n",
    "    length_of_overlap = signed_overlap.iloc[row_of_target,:],\n",
    ")"
   ]
  },
  {
   "cell_type": "code",
   "execution_count": 14,
   "metadata": {},
   "outputs": [
    {
     "ename": "SyntaxError",
     "evalue": "invalid syntax (4048077929.py, line 9)",
     "output_type": "error",
     "traceback": [
      "\u001b[1;36m  Input \u001b[1;32mIn [14]\u001b[1;36m\u001b[0m\n\u001b[1;33m    column(\"measure\").group_by\u001b[0m\n\u001b[1;37m    ^\u001b[0m\n\u001b[1;31mSyntaxError\u001b[0m\u001b[1;31m:\u001b[0m invalid syntax\n"
     ]
    }
   ],
   "source": [
    "merge(\n",
    "    target       = segments,\n",
    "    new_data     = data,\n",
    "    join_left_on = [\"road\",\"cwy\"],\n",
    "    from_to      = (\"slk_from\",\"slk_to\"),\n",
    "    add_columns  = [\n",
    "        column(\"category\").take_index(column(\"measure\").index_of_maximum()).alias(\"category_of_max_measure\"),\n",
    "        column(\"category\").group()\n",
    "        column(\"measure\").group_by\n",
    "    ]\n",
    ")\n"
   ]
  },
  {
   "cell_type": "code",
   "execution_count": null,
   "metadata": {},
   "outputs": [],
   "source": []
  }
 ],
 "metadata": {
  "kernelspec": {
   "display_name": "Python 3.9.7 ('base')",
   "language": "python",
   "name": "python3"
  },
  "language_info": {
   "codemirror_mode": {
    "name": "ipython",
    "version": 3
   },
   "file_extension": ".py",
   "mimetype": "text/x-python",
   "name": "python",
   "nbconvert_exporter": "python",
   "pygments_lexer": "ipython3",
   "version": "3.9.7"
  },
  "orig_nbformat": 4,
  "vscode": {
   "interpreter": {
    "hash": "96f3c6fba75008833ba01a455abb1adb769ac6350096651888c2504dea6d13a0"
   }
  }
 },
 "nbformat": 4,
 "nbformat_minor": 2
}

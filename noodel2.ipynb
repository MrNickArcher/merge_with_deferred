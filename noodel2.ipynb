{
 "cells": [
  {
   "cell_type": "code",
   "execution_count": 1,
   "metadata": {},
   "outputs": [],
   "source": [
    "import operator\n",
    "\n",
    "from merge import on_intervals, AST"
   ]
  },
  {
   "cell_type": "code",
   "execution_count": 2,
   "metadata": {},
   "outputs": [
    {
     "ename": "Exception",
     "evalue": "Cannot use `and`, `not` and `or` because `PEP 335 - Overloadable Boolean Operators` was () rejected. Yay for python.",
     "output_type": "error",
     "traceback": [
      "\u001b[1;31m---------------------------------------------------------------------------\u001b[0m",
      "\u001b[1;31mException\u001b[0m                                 Traceback (most recent call last)",
      "\u001b[1;32me:\\GitProjects\\2022 07 24 Merge Interface\\noodel2.ipynb Cell 2\u001b[0m in \u001b[0;36m<cell line: 1>\u001b[1;34m()\u001b[0m\n\u001b[1;32m----> <a href='vscode-notebook-cell:/e%3A/GitProjects/2022%2007%2024%20Merge%20Interface/noodel2.ipynb#ch0000005?line=0'>1</a>\u001b[0m AST\u001b[39m.\u001b[39mleft_column(\u001b[39m\"\u001b[39m\u001b[39mA\u001b[39m\u001b[39m\"\u001b[39m) \u001b[39mand\u001b[39;00m AST\u001b[39m.\u001b[39mleft_column(\u001b[39m\"\u001b[39m\u001b[39mB\u001b[39m\u001b[39m\"\u001b[39m)\n",
      "File \u001b[1;32me:\\GitProjects\\2022 07 24 Merge Interface\\merge\\_ast.py:170\u001b[0m, in \u001b[0;36mAST.__bool__\u001b[1;34m(self)\u001b[0m\n\u001b[0;32m    169\u001b[0m \u001b[39mdef\u001b[39;00m \u001b[39m__bool__\u001b[39m(\u001b[39mself\u001b[39m):\n\u001b[1;32m--> 170\u001b[0m     \u001b[39mraise\u001b[39;00m \u001b[39mException\u001b[39;00m(\n\u001b[0;32m    171\u001b[0m         \u001b[39m\"\u001b[39m\u001b[39mCannot use `and`, `not` and `or` because `PEP 335 - Overloadable Boolean Operators` \u001b[39m\u001b[39m\"\u001b[39m\n\u001b[0;32m    172\u001b[0m         \u001b[39m\"\u001b[39m\u001b[39mwas () rejected. Yay for python.\u001b[39m\u001b[39m\"\u001b[39m)\n",
      "\u001b[1;31mException\u001b[0m: Cannot use `and`, `not` and `or` because `PEP 335 - Overloadable Boolean Operators` was () rejected. Yay for python."
     ]
    }
   ],
   "source": [
    "AST.left_column(\"A\") and AST.left_column(\"B\")"
   ]
  },
  {
   "cell_type": "code",
   "execution_count": null,
   "metadata": {},
   "outputs": [],
   "source": [
    "import pandas as pd"
   ]
  },
  {
   "cell_type": "code",
   "execution_count": null,
   "metadata": {},
   "outputs": [
    {
     "name": "stderr",
     "output_type": "stream",
     "text": [
      "C:\\Users\\guilt\\AppData\\Local\\Temp\\ipykernel_23792\\2728795120.py:1: FutureWarning: The default dtype for empty Series will be 'object' instead of 'float64' in a future version. Specify a dtype explicitly to silence this warning.\n",
      "  pd.Series() and pd.Series()\n"
     ]
    },
    {
     "ename": "ValueError",
     "evalue": "The truth value of a Series is ambiguous. Use a.empty, a.bool(), a.item(), a.any() or a.all().",
     "output_type": "error",
     "traceback": [
      "\u001b[1;31m---------------------------------------------------------------------------\u001b[0m",
      "\u001b[1;31mValueError\u001b[0m                                Traceback (most recent call last)",
      "\u001b[1;32me:\\GitProjects\\2022 07 24 Merge Interface\\noodel2.ipynb Cell 4\u001b[0m in \u001b[0;36m<cell line: 1>\u001b[1;34m()\u001b[0m\n\u001b[1;32m----> <a href='vscode-notebook-cell:/e%3A/GitProjects/2022%2007%2024%20Merge%20Interface/noodel2.ipynb#ch0000009?line=0'>1</a>\u001b[0m pd\u001b[39m.\u001b[39mSeries() \u001b[39mand\u001b[39;00m pd\u001b[39m.\u001b[39mSeries()\n",
      "File \u001b[1;32mv:\\miniconda39\\lib\\site-packages\\pandas\\core\\generic.py:1535\u001b[0m, in \u001b[0;36mNDFrame.__nonzero__\u001b[1;34m(self)\u001b[0m\n\u001b[0;32m   1533\u001b[0m \u001b[39m@final\u001b[39m\n\u001b[0;32m   1534\u001b[0m \u001b[39mdef\u001b[39;00m \u001b[39m__nonzero__\u001b[39m(\u001b[39mself\u001b[39m):\n\u001b[1;32m-> 1535\u001b[0m     \u001b[39mraise\u001b[39;00m \u001b[39mValueError\u001b[39;00m(\n\u001b[0;32m   1536\u001b[0m         \u001b[39mf\u001b[39m\u001b[39m\"\u001b[39m\u001b[39mThe truth value of a \u001b[39m\u001b[39m{\u001b[39;00m\u001b[39mtype\u001b[39m(\u001b[39mself\u001b[39m)\u001b[39m.\u001b[39m\u001b[39m__name__\u001b[39m\u001b[39m}\u001b[39;00m\u001b[39m is ambiguous. \u001b[39m\u001b[39m\"\u001b[39m\n\u001b[0;32m   1537\u001b[0m         \u001b[39m\"\u001b[39m\u001b[39mUse a.empty, a.bool(), a.item(), a.any() or a.all().\u001b[39m\u001b[39m\"\u001b[39m\n\u001b[0;32m   1538\u001b[0m     )\n",
      "\u001b[1;31mValueError\u001b[0m: The truth value of a Series is ambiguous. Use a.empty, a.bool(), a.item(), a.any() or a.all()."
     ]
    }
   ],
   "source": [
    "pd.Series() and pd.Series()"
   ]
  },
  {
   "cell_type": "markdown",
   "metadata": {},
   "source": [
    "__abs__\n",
    "__add__\n",
    "__and__\n",
    "__call__\n",
    "__class__\n",
    "__cmp__\n",
    "__coerce__\n",
    "__complex__\n",
    "__contains__\n",
    "__del__\n",
    "__delattr__\n",
    "__delete__\n",
    "__delitem__\n",
    "__delslice__\n",
    "__dict__\n",
    "__div__\n",
    "__divmod__\n",
    "__eq__\n",
    "__float__\n",
    "__floordiv__\n",
    "__ge__\n",
    "__get__\n",
    "__getattr__\n",
    "__getattribute__\n",
    "__getitem__\n",
    "__getslice__\n",
    "__gt__\n",
    "__hash__\n",
    "__hex__\n",
    "__iadd__\n",
    "__iand__\n",
    "__idiv__\n",
    "__ifloordiv__\n",
    "__ilshift__\n",
    "__imod__\n",
    "__imul__\n",
    "__index__\n",
    "__init__\n",
    "__instancecheck__\n",
    "__int__\n",
    "__invert__\n",
    "__ior__\n",
    "__ipow__\n",
    "__irshift__\n",
    "__isub__\n",
    "__iter__\n",
    "__itruediv__\n",
    "__ixor__\n",
    "__le__\n",
    "__len__\n",
    "__long__\n",
    "__lshift__\n",
    "__lt__\n",
    "__metaclass__\n",
    "__mod__\n",
    "__mro__\n",
    "__mul__\n",
    "__ne__\n",
    "__neg__\n",
    "__new__\n",
    "__nonzero__\n",
    "__oct__\n",
    "__or__\n",
    "__pos__\n",
    "__pow__\n",
    "__radd__\n",
    "__rand__\n",
    "__rcmp__\n",
    "__rdiv__\n",
    "__rdivmod__\n",
    "__repr__\n",
    "__reversed__\n",
    "__rfloordiv__\n",
    "__rlshift__\n",
    "__rmod__\n",
    "__rmul__\n",
    "__ror__\n",
    "__rpow__\n",
    "__rrshift__\n",
    "__rshift__\n",
    "__rsub__\n",
    "__rtruediv__\n",
    "__rxor__\n",
    "__set__\n",
    "__setattr__\n",
    "__setitem__\n",
    "__setslice__\n",
    "__slots__\n",
    "__str__\n",
    "__sub__\n",
    "__subclasscheck__\n",
    "__truediv__\n",
    "__unicode__\n",
    "__weakref__\n",
    "__xor__"
   ]
  }
 ],
 "metadata": {
  "kernelspec": {
   "display_name": "Python 3.9.7 ('base')",
   "language": "python",
   "name": "python3"
  },
  "language_info": {
   "codemirror_mode": {
    "name": "ipython",
    "version": 3
   },
   "file_extension": ".py",
   "mimetype": "text/x-python",
   "name": "python",
   "nbconvert_exporter": "python",
   "pygments_lexer": "ipython3",
   "version": "3.9.7"
  },
  "orig_nbformat": 4,
  "vscode": {
   "interpreter": {
    "hash": "96f3c6fba75008833ba01a455abb1adb769ac6350096651888c2504dea6d13a0"
   }
  }
 },
 "nbformat": 4,
 "nbformat_minor": 2
}
